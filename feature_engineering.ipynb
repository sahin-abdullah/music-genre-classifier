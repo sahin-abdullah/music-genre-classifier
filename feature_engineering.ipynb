{
 "cells": [
  {
   "cell_type": "code",
   "execution_count": 1,
   "metadata": {},
   "outputs": [],
   "source": [
    "import os\n",
    "import warnings\n",
    "from feature import Features\n",
    "from preprocess import AudioProcess\n",
    "warnings.filterwarnings('ignore')"
   ]
  },
  {
   "cell_type": "code",
   "execution_count": 3,
   "metadata": {},
   "outputs": [
    {
     "name": "stderr",
     "output_type": "stream",
     "text": [
      "Audio file are being processed: 100%|██████████| 1000/1000 [01:12<00:00, 13.86it/s]\n"
     ]
    }
   ],
   "source": [
    "path = os.path.join(os.getcwd(), 'music')\n",
    "options = {'path': path, 'reg_exp': r'[a-z]+.[0-9]+.wav$', 'n_class': 10,\n",
    "           't_windows': 3.0, 'sample_rate': 22050, 'resample': 10,\n",
    "           'split_ratio': [80, 10, 10]\n",
    "}\n",
    "ap = AudioProcess(**options)\n",
    "musics, offsets = ap.load()"
   ]
  },
  {
   "cell_type": "code",
   "execution_count": 4,
   "metadata": {},
   "outputs": [
    {
     "data": {
      "text/plain": [
       "['classical',\n",
       " 'blues',\n",
       " 'disco',\n",
       " 'reggae',\n",
       " 'pop',\n",
       " 'metal',\n",
       " 'rock',\n",
       " 'jazz',\n",
       " 'hiphop',\n",
       " 'country']"
      ]
     },
     "execution_count": 4,
     "metadata": {},
     "output_type": "execute_result"
    }
   ],
   "source": [
    "ap.subdir"
   ]
  },
  {
   "cell_type": "code",
   "execution_count": null,
   "metadata": {},
   "outputs": [],
   "source": [
    "musics.to_csv('./data/musics.csv')"
   ]
  },
  {
   "cell_type": "code",
   "execution_count": null,
   "metadata": {},
   "outputs": [],
   "source": [
    "X_train, y_train, X_dev, y_dev, X_test, y_test = ap.split(musics)"
   ]
  },
  {
   "cell_type": "code",
   "execution_count": null,
   "metadata": {},
   "outputs": [],
   "source": [
    "options2 = {'path': path, 'n_mfcc': 13, 't_windows': 3.0, \n",
    "            'sample_rate': 22050, 'resample': 10, 'n_chroma': 12, \n",
    "            'frame_length': 2048, 'hop_len': 512}     \n",
    "fp = Features(**options2)"
   ]
  },
  {
   "cell_type": "code",
   "execution_count": null,
   "metadata": {},
   "outputs": [],
   "source": [
    "Xy_train, Xy_dev, Xy_test = fp.t_invariant(X_train, X_dev, X_test, y_train, y_dev, y_test, ap.file_list)"
   ]
  },
  {
   "cell_type": "code",
   "execution_count": null,
   "metadata": {},
   "outputs": [],
   "source": [
    "train, dev, test = fp.t_variant(X_train, X_dev, X_test, y_train, y_dev, y_test)"
   ]
  }
 ],
 "metadata": {
  "environment": {
   "name": "common-cpu.m59",
   "type": "gcloud",
   "uri": "gcr.io/deeplearning-platform-release/base-cpu:m59"
  },
  "kernelspec": {
   "display_name": "Python 3",
   "language": "python",
   "name": "python3"
  },
  "language_info": {
   "codemirror_mode": {
    "name": "ipython",
    "version": 3
   },
   "file_extension": ".py",
   "mimetype": "text/x-python",
   "name": "python",
   "nbconvert_exporter": "python",
   "pygments_lexer": "ipython3",
   "version": "3.7.8"
  }
 },
 "nbformat": 4,
 "nbformat_minor": 4
}
